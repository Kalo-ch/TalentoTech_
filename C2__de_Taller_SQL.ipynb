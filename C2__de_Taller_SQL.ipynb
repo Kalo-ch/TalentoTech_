{
  "nbformat": 4,
  "nbformat_minor": 0,
  "metadata": {
    "colab": {
      "provenance": [],
      "include_colab_link": true
    },
    "kernelspec": {
      "name": "python3",
      "display_name": "Python 3"
    },
    "language_info": {
      "name": "python"
    }
  },
  "cells": [
    {
      "cell_type": "markdown",
      "metadata": {
        "id": "view-in-github",
        "colab_type": "text"
      },
      "source": [
        "<a href=\"https://colab.research.google.com/github/Kalo-ch/TalentoTech_/blob/main/C2__de_Taller_SQL.ipynb\" target=\"_parent\"><img src=\"https://colab.research.google.com/assets/colab-badge.svg\" alt=\"Open In Colab\"/></a>"
      ]
    },
    {
      "cell_type": "markdown",
      "source": [
        "## INTRODUCCIÓN\n",
        "Usaré esta notebook para proporcionar una introducción a SQL, lenguaje imprescindible para todo analista de datos.\n",
        "\n",
        "Los sistemas gestores de bases de datos interpretan consultas escritas en lenguaje SQL, y así es como interactuamos y obtenemos datos de las bases de datos y aplicaciones.\n",
        "\n",
        "SQL significa Structured Query Language (Lenguaje de consulta estructurado)\n",
        "SQL permite acceder y manipular bases de datos\n",
        "SQL es una herramienta simple para el análisis avanzado de datos\n",
        "SQL no se usa sólo para manipular datos, sino también para administrar la misma base de datos, crear y modificar el diseño de objetos de la base de datos, como tablas. El elemento de SQL que se usa para crear y modificar objetos de base de datos se denomina lenguaje de definición de datos (DDL). Este curso no trata DDL.\n",
        "\n",
        "En esta notebook veremos cómo trabajar/manipular tablas. Aprenderemos a usar SQL para interactuar con una base de datos de fútbol europeo y generar información interesante con sus datos.\n",
        "\n",
        "La base de datos utilizada, pueder ser encontrada [aquí](https://www.kaggle.com/datasets/hugomathien/soccer)\n",
        "\n",
        "Este ejercicio esta basado en el repositorio de (https://www.kaggle.com/code/gustavojaramillo/data-analysis-using-sql-espa-ol)"
      ],
      "metadata": {
        "id": "UsZdp4Y1mKk2"
      }
    },
    {
      "cell_type": "code",
      "execution_count": null,
      "metadata": {
        "id": "A1dHbTZcmC1t"
      },
      "outputs": [],
      "source": [
        "# Importar librerías\n",
        "import pandas as pd\n",
        "import sqlite3 # SQLite"
      ]
    },
    {
      "cell_type": "code",
      "source": [
        "# Lectura\n",
        "from google.colab import drive\n",
        "drive.mount('/content/drive')"
      ],
      "metadata": {
        "id": "X7m2qN_7mPXf"
      },
      "execution_count": null,
      "outputs": []
    },
    {
      "cell_type": "code",
      "source": [
        "# Los datos de entrada están disponibles en el directorio \"drive\"\n",
        "# Se sugiere establecer la conexión con su drive personal\n",
        "\n",
        "path = \"/content/drive/MyDrive/Colab Notebooks/DA_Talento/data/db/\"\n",
        "\n",
        "database = path + 'database.sqlite'\n",
        "\n",
        "# Creamos la conexión con la BD y listaremos las tablas con las que contamos\n",
        "\n",
        "conn = sqlite3.connect(database)\n",
        "print (\"Conexión exitosa\")\n",
        "\n",
        "print (database)\n",
        "\n",
        "tables = pd.read_sql(\"\"\"SELECT *\n",
        "                        FROM sqlite_master\n",
        "                        WHERE type='table';\"\"\", conn)\n",
        "tables\n",
        "\n",
        "#Tarea: consultar que el * funcione para dataframe pandas"
      ],
      "metadata": {
        "id": "cjKwXPgEmR0u",
        "outputId": "53109504-12f0-468f-84c9-cc29563f063d",
        "colab": {
          "base_uri": "https://localhost:8080/",
          "height": 211
        }
      },
      "execution_count": null,
      "outputs": [
        {
          "output_type": "error",
          "ename": "NameError",
          "evalue": "name 'sqlite3' is not defined",
          "traceback": [
            "\u001b[0;31m---------------------------------------------------------------------------\u001b[0m",
            "\u001b[0;31mNameError\u001b[0m                                 Traceback (most recent call last)",
            "\u001b[0;32m<ipython-input-1-0cdb8ec14ff4>\u001b[0m in \u001b[0;36m<cell line: 10>\u001b[0;34m()\u001b[0m\n\u001b[1;32m      8\u001b[0m \u001b[0;31m# Creamos la conexión con la BD y listaremos las tablas con las que contamos\u001b[0m\u001b[0;34m\u001b[0m\u001b[0;34m\u001b[0m\u001b[0m\n\u001b[1;32m      9\u001b[0m \u001b[0;34m\u001b[0m\u001b[0m\n\u001b[0;32m---> 10\u001b[0;31m \u001b[0mconn\u001b[0m \u001b[0;34m=\u001b[0m \u001b[0msqlite3\u001b[0m\u001b[0;34m.\u001b[0m\u001b[0mconnect\u001b[0m\u001b[0;34m(\u001b[0m\u001b[0mdatabase\u001b[0m\u001b[0;34m)\u001b[0m\u001b[0;34m\u001b[0m\u001b[0;34m\u001b[0m\u001b[0m\n\u001b[0m\u001b[1;32m     11\u001b[0m \u001b[0mprint\u001b[0m \u001b[0;34m(\u001b[0m\u001b[0;34m\"Conexión exitosa\"\u001b[0m\u001b[0;34m)\u001b[0m\u001b[0;34m\u001b[0m\u001b[0;34m\u001b[0m\u001b[0m\n\u001b[1;32m     12\u001b[0m \u001b[0;34m\u001b[0m\u001b[0m\n",
            "\u001b[0;31mNameError\u001b[0m: name 'sqlite3' is not defined"
          ]
        }
      ]
    },
    {
      "cell_type": "code",
      "source": [
        "query = 'SELECT * FROM \\'Country\\';'\n",
        "\n",
        "countries = pd.read_sql(query, conn)\n",
        "countries"
      ],
      "metadata": {
        "id": "f3QUUvU_mY0G"
      },
      "execution_count": null,
      "outputs": []
    },
    {
      "cell_type": "code",
      "source": [
        "#Consulta todas las ligas del futbol europeo\n",
        "query = \"\"\"SELECT *\n",
        "            FROM League; \"\"\"\n",
        "\n",
        "#No modificar lo siguiente:\n",
        "leagues = pd.read_sql(query, conn)\n",
        "leagues"
      ],
      "metadata": {
        "id": "uMzGhlhNmbxw"
      },
      "execution_count": null,
      "outputs": []
    },
    {
      "cell_type": "code",
      "source": [
        "#Consulta de solo los jugadores únicos de la tabla Player\n",
        "query = \"\"\"SELECT DISTINCT player_name FROM Player; \"\"\"\n",
        "\n",
        "#Creo una variable players_distinct que almacene los jugadores únicos\n",
        "players_distinct = pd.read_sql(query, conn)\n",
        "players_distinct"
      ],
      "metadata": {
        "id": "8fUb536msOqb"
      },
      "execution_count": null,
      "outputs": []
    },
    {
      "cell_type": "code",
      "source": [
        "query = \"\"\"SELECT DISTINCT season\n",
        "           FROM Match;\"\"\"\n",
        "\n",
        "seasons = pd.read_sql(query, conn)\n",
        "seasons\n",
        "\n",
        "#Las temporadas de análisis son 8, comprendidas entre los años 2008 y 2016"
      ],
      "metadata": {
        "id": "fpqgPFHAsQgb"
      },
      "execution_count": null,
      "outputs": []
    },
    {
      "cell_type": "code",
      "source": [
        "query = \"\"\"SELECT DISTINCT overall_rating\n",
        "           FROM Player_Attributes;\"\"\"\n",
        "\n",
        "overall_rating = pd.read_sql(query, conn)\n",
        "overall_rating"
      ],
      "metadata": {
        "id": "OTqdYBudsTmG"
      },
      "execution_count": null,
      "outputs": []
    },
    {
      "cell_type": "code",
      "source": [
        "query = \"\"\"SELECT id, player_name, birthday, height, weight\n",
        "           FROM Player\n",
        "           LIMIT 15;\"\"\"\n",
        "\n",
        "jugadores = pd.read_sql(query, conn)\n",
        "jugadores"
      ],
      "metadata": {
        "id": "dVjlDMJDsWND",
        "outputId": "e84b208d-0124-4b8d-ab24-c7f2ad97fd5c",
        "colab": {
          "base_uri": "https://localhost:8080/",
          "height": 190
        }
      },
      "execution_count": null,
      "outputs": [
        {
          "output_type": "error",
          "ename": "NameError",
          "evalue": "name 'pd' is not defined",
          "traceback": [
            "\u001b[0;31m---------------------------------------------------------------------------\u001b[0m",
            "\u001b[0;31mNameError\u001b[0m                                 Traceback (most recent call last)",
            "\u001b[0;32m<ipython-input-1-42fb837a950e>\u001b[0m in \u001b[0;36m<cell line: 5>\u001b[0;34m()\u001b[0m\n\u001b[1;32m      3\u001b[0m            LIMIT 15;\"\"\"\n\u001b[1;32m      4\u001b[0m \u001b[0;34m\u001b[0m\u001b[0m\n\u001b[0;32m----> 5\u001b[0;31m \u001b[0mjugadores\u001b[0m \u001b[0;34m=\u001b[0m \u001b[0mpd\u001b[0m\u001b[0;34m.\u001b[0m\u001b[0mread_sql\u001b[0m\u001b[0;34m(\u001b[0m\u001b[0mquery\u001b[0m\u001b[0;34m,\u001b[0m \u001b[0mconn\u001b[0m\u001b[0;34m)\u001b[0m\u001b[0;34m\u001b[0m\u001b[0;34m\u001b[0m\u001b[0m\n\u001b[0m\u001b[1;32m      6\u001b[0m \u001b[0mjugadores\u001b[0m\u001b[0;34m\u001b[0m\u001b[0;34m\u001b[0m\u001b[0m\n",
            "\u001b[0;31mNameError\u001b[0m: name 'pd' is not defined"
          ]
        }
      ]
    }
  ]
}